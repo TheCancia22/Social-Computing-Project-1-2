{
 "cells": [
  {
   "cell_type": "markdown",
   "metadata": {},
   "source": [
    "# Progetto di Social Computing\n",
    "\n",
    "a.a. 2022/2023"
   ]
  },
  {
   "cell_type": "markdown",
   "metadata": {},
   "source": [
    "## Attività preliminari"
   ]
  },
  {
   "cell_type": "markdown",
   "metadata": {},
   "source": [
    "### Librerie e costanti"
   ]
  },
  {
   "cell_type": "code",
   "execution_count": 1,
   "metadata": {},
   "outputs": [],
   "source": [
    "# Import delle librerie utilizzate\n",
    "import os, tweepy, json\n",
    "import networkx as nx \n",
    "import pandas as pd \n",
    "import numpy as np \n",
    "import random as rn\n",
    "import networkx as nx\n",
    "import matplotlib.pyplot as plt "
   ]
  },
  {
   "cell_type": "code",
   "execution_count": 2,
   "metadata": {},
   "outputs": [],
   "source": [
    "# Cartelle di salvataggio\n",
    "data_folder = \"./data\"\n",
    "out_folder = \"./out\""
   ]
  },
  {
   "cell_type": "markdown",
   "metadata": {},
   "source": [
    "### Funzioni"
   ]
  },
  {
   "cell_type": "code",
   "execution_count": 3,
   "metadata": {},
   "outputs": [],
   "source": [
    "# Salvataggio in locale\n",
    "def serialize_json(folder, filename, data):\n",
    "    if not os.path.exists(folder):\n",
    "        os.makedirs(folder, exist_ok=True)\n",
    "    \n",
    "    with open(f\"{folder}/{filename}\", \"w\", encoding=\"utf-8\") as f:\n",
    "        json.dump(data, f, ensure_ascii=False, indent = 4)\n",
    "        f.close()\n",
    "    print(f\"Data serialized to path: {folder}/{filename}\")"
   ]
  },
  {
   "cell_type": "code",
   "execution_count": 4,
   "metadata": {},
   "outputs": [],
   "source": [
    "# Lettura da locale\n",
    "def read_json(path):\n",
    "    if os.path.exists(path):\n",
    "        with open(path, \"r\", encoding=\"utf-8\") as file:\n",
    "            data = json.load(file)\n",
    "        print(f\"Data read from path: {path}\")\n",
    "        return data\n",
    "    else:\n",
    "        print(f\"No data found at path: {path}\")\n",
    "        return {}"
   ]
  },
  {
   "cell_type": "code",
   "execution_count": 11,
   "metadata": {},
   "outputs": [],
   "source": [
    "# Somma dei numeri di tweet prodotti in un intervallo di tempo\n",
    "def sum_tweets_count(tweet_groups):\n",
    "    sum = 0\n",
    "\n",
    "    for tweet_count in tweet_groups:\n",
    "        sum += tweet_count[\"tweet_count\"]\n",
    "    \n",
    "    return sum"
   ]
  },
  {
   "cell_type": "markdown",
   "metadata": {},
   "source": [
    "### Credenziali Twitter API"
   ]
  },
  {
   "cell_type": "code",
   "execution_count": 5,
   "metadata": {},
   "outputs": [
    {
     "name": "stdout",
     "output_type": "stream",
     "text": [
      "Data read from path: ./api_access.json\n"
     ]
    }
   ],
   "source": [
    "# Caricamento credenziali da JSON\n",
    "api_access = read_json(\"./api_access.json\")"
   ]
  },
  {
   "cell_type": "markdown",
   "metadata": {},
   "source": [
    "## Recupero dei follower e dei follower dei follower"
   ]
  },
  {
   "cell_type": "markdown",
   "metadata": {},
   "source": [
    "### Recupero dei follower"
   ]
  },
  {
   "cell_type": "markdown",
   "metadata": {},
   "source": [
    "Si vogliono recuperare, utilizzando la libreria `tweepy`, tutti i follower dell'utente *@KevinRoitero*, corredati delle seguenti informazioni:\n",
    "\n",
    "* attributi di default;\n",
    "* descrizione del profilo;\n",
    "* metriche pubbliche dell'account;\n",
    "* se l'account è protetto"
   ]
  },
  {
   "cell_type": "code",
   "execution_count": 7,
   "metadata": {},
   "outputs": [
    {
     "name": "stdout",
     "output_type": "stream",
     "text": [
      "Data serialized to path: ./data/user_followers.json\n"
     ]
    }
   ],
   "source": [
    " # Si inizializza il client\n",
    "client = tweepy.Client(bearer_token=api_access[\"bearer_token\"])\n",
    "\n",
    "username = \"KevinRoitero\"\n",
    "all_user_followers = []\n",
    "\n",
    "# Si recuperano e memorizzano le informazioni dell'utente\n",
    "response = client.get_user(username = username, user_fields=[\"description\", \"protected\", \"public_metrics\"])\n",
    "user = dict(response.data)\n",
    "\n",
    "# Si recuperano e memorizzano i follower dell'utente\n",
    "response = client.get_users_followers(user[\"id\"], user_fields=[\"description\", \"protected\", \"public_metrics\"], \n",
    "                                      max_results=150) # max_results = 150 perché i follower dell'utente sono nell'ordine di 130\n",
    "for follower in response.data:\n",
    "    all_user_followers.append(dict(follower))\n",
    "\n",
    "# Si associano i follower trovati all'utente di partenza\n",
    "user[\"followers\"] = all_user_followers\n",
    "\n",
    "# Si serializza su JSON il risultato ottenuto\n",
    "serialize_json(data_folder, \"user_followers.json\", user)"
   ]
  },
  {
   "cell_type": "markdown",
   "metadata": {},
   "source": [
    "### Aggiunta del numero di tweet prodotti nell'ultima settimana"
   ]
  },
  {
   "cell_type": "markdown",
   "metadata": {},
   "source": [
    "Ai follower trovati, si vuole aggiungere il numero di tweet pubblicati nell'ultima settimana. Per avere uniformità, troveremo anche il numero di tweet pubblicati nell'ultima settimana dall'utente *@KevinRoitero*."
   ]
  },
  {
   "cell_type": "code",
   "execution_count": 15,
   "metadata": {},
   "outputs": [
    {
     "name": "stdout",
     "output_type": "stream",
     "text": [
      "Data serialized to path: ./data/user_last_week_tweets.json\n"
     ]
    }
   ],
   "source": [
    "# Si può utilizzare la variabile 'client' definita precedentemente per il client dell'API, in alternativa\n",
    "# client = tweepy.Client(bearer_token=api_access[\"bearer_token\"])\n",
    "# Si sceglie l'utilizzo dello stesso client di partenza, o comunque senza la possibilità di mettersi in attesa, perché numero_richieste < 300,\n",
    "# dove 300 è il numero massimo di richieste per l'endpoint get_recent_tweets_count()\n",
    "\n",
    "# Si può sfruttare la variabile 'user' definita precedentemente, in alternativa\n",
    "# user = read_json(data_folder+\"/user_followers.json\")\n",
    "\n",
    "# Si può utilizzare la variabile 'username' definita precedentemente per lo username dell'utente, in alternativa\n",
    "# username = user[\"username\"]\n",
    "\n",
    "# Si memorizza il numero di tweet pubblicati dall'utente nell'ultima settimana\n",
    "response = client.get_recent_tweets_count(query=\"from:\"+username, granularity=\"day\") # si utilizza la variabile 'username' definita nella sezione precedente\n",
    "user[\"last_week_tweets_count\"] = sum_tweets_count(response.data)\n",
    "\n",
    "# Si ripete lo stesso per i follower dell'utente\n",
    "for follower in user[\"followers\"]:\n",
    "    if(not follower[\"protected\"]): # non si può accedere ai tweet di un utente 'protected'\n",
    "        response = client.get_recent_tweets_count(query=\"from:\"+follower[\"username\"], granularity=\"day\")\n",
    "        follower[\"last_week_tweets_count\"] = sum_tweets_count(response.data)\n",
    "\n",
    "# Si serializza su JSON il risultato ottenuto\n",
    "serialize_json(data_folder, \"user_last_week_tweets.json\", user)"
   ]
  }
 ],
 "metadata": {
  "kernelspec": {
   "display_name": "Python 3.9.13 ('base')",
   "language": "python",
   "name": "python3"
  },
  "language_info": {
   "codemirror_mode": {
    "name": "ipython",
    "version": 3
   },
   "file_extension": ".py",
   "mimetype": "text/x-python",
   "name": "python",
   "nbconvert_exporter": "python",
   "pygments_lexer": "ipython3",
   "version": "3.9.13"
  },
  "orig_nbformat": 4,
  "vscode": {
   "interpreter": {
    "hash": "4f523f7c76dd18e7ed336217f32f6f704c23c323644912475b9d3570cf04b060"
   }
  }
 },
 "nbformat": 4,
 "nbformat_minor": 2
}
