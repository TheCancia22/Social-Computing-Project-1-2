{
 "cells": [
  {
   "cell_type": "markdown",
   "metadata": {},
   "source": [
    "Costruire un sottografo del grafo di Twitter: \n",
    "- tutti i follower di @KevinRoitero\n",
    " - per ogni follower: atributi, descizione, meetriche pubbliche, se l'account è protetto, salvare una unica serializzazione (un Json unico)\n",
    "- Per ogni follower del profilo usare Tweepy per scaricare il numero di tweet pubblicati da quel profilo durante l'ultima settimana, aggiungere tale info al Json al punto 1 \n",
    "- per ogni follower cha hanno almeno un follower e non sono protected scaricare 1000 followers (salvando le info al punto 1)\n",
    "- NetworkX -> grafo diretto (nodi -> kevin roitero e i follower id = profilo utente e ciascun nodo ha come attributo username-descrizione-numero di follower) "
   ]
  },
  {
   "cell_type": "code",
   "execution_count": 1,
   "metadata": {},
   "outputs": [],
   "source": [
    "# setup librerie \n",
    "import os, tweepy, json\n",
    "import networkx as nx \n",
    "import pandas as pd \n",
    "import numpy as np \n",
    "import random as rn\n",
    "import networkx as nx\n",
    "import matplotlib.pyplot as plt \n",
    "# setup credenziali e inizializzazione client \n",
    "api_key = \"d42BqiRZxWT9fCO093YABDzSx\"\n",
    "api_secret_token = \"5o48EqF4s6SYwpsfZfsu9nENb9xZHPVmAJ6mMA6b8agXTDSghB\"\n",
    "access_token = \"1588237699193921536-nZqckxn97PWMLHm1tMmATKrymglyIK\"\n",
    "access_secret = \"BLIVYj24rplYT3LgsXQ1lvOgw5NmqzLI6b6D41gse61ae\"\n",
    "bearer_token = \"AAAAAAAAAAAAAAAAAAAAAECgiwEAAAAASxOXKB3inXrh0zL7rlp1qwHhpE0%3DeABsdc15BSvFEQJVnsPOiHZjs7vUmM5hJ7rDtD0xqokABlpLEI\"\n"
   ]
  },
  {
   "cell_type": "code",
   "execution_count": 3,
   "metadata": {},
   "outputs": [],
   "source": [
    "# setup serializzazione \n",
    "# Serializzazione con JSON -> i dati scaricati possono essere tanti, sappiamo che possiamo scaricare un numero limitato di tweet \n",
    "# sarebbe meglio serializzare in locale \n",
    "data_folder = \"data\"\n",
    "# salvataggio di dati in locale \n",
    "def serialize_json(folder, filename, data): \n",
    "    # se la cartella non esiste la creo \n",
    "    if not os.path.exists(folder): \n",
    "        os.makedirs(folder, exist_ok=True)\n",
    "    with open(f\"{folder}/{filename}\", 'w', encoding='utf-8') as folder_1: \n",
    "        json.dump(data, folder_1, ensure_ascii=False, indent=4)\n",
    "        folder_1.close()\n",
    "    print(f\"Data serialized to path: {folder}/{filename}\")\n",
    "# lettura file JSON da locale \n",
    "def read_json(path): \n",
    "    if os.path.exists(path):\n",
    "        with open(path, \"r\", encoding=\"utf8\") as file: \n",
    "            data = json.load(file)\n",
    "        print(f\"Data read from path: {path}\")\n",
    "        return data \n",
    "    else: \n",
    "        print(f\"No data found at path: {path}\")\n",
    "        return{}\n",
    "# serialize_json(data_folder, \"tweet.json\", tweet)"
   ]
  },
  {
   "cell_type": "code",
   "execution_count": 7,
   "metadata": {},
   "outputs": [
    {
     "name": "stdout",
     "output_type": "stream",
     "text": [
      "Looking for KevinRoitero followers.\n",
      "Found 132 followers for KevinRoitero\n",
      "Data serialized to path: data/followers_example.json\n"
     ]
    }
   ],
   "source": [
    "client = tweepy.Client(bearer_token=bearer_token, wait_on_rate_limit=True) # specifico il wait_on_rate -> per valutare i limiti dell'endpoint \n",
    "# specifico gli user e inizializzo l'holder dei followers \n",
    "users_to_find = [\"KevinRoitero\"]\n",
    "all_followers = {}\n",
    "# itero sugli user andando a ricercare l'utente per recuperare i dati \n",
    "for current_user in users_to_find:\n",
    "    response = client.get_user(username = current_user)\n",
    "    user_id = response.data.id \n",
    "    username = response.data.username\n",
    "    all_followers[username] = []                            # richiedo l'username dei follower \n",
    "\n",
    "    print(f\"Looking for {current_user} followers.\")\n",
    "    # utilizzo Paginator perchè non so a priori quanti follower ho \n",
    "    for current_user_followers in tweepy.Paginator(client.get_users_followers, id = user_id, user_fields = [\"description\",\"protected\"],tweet_fields=[\"public_metrics\"], max_results = 1000):\n",
    "        this_user_followers = []\n",
    "        for follower in current_user_followers.data:\n",
    "            found_follower = {\n",
    "                \"id\":follower[\"id\"],\n",
    "                \"name\":follower[\"name\"],\n",
    "                \"username\":follower[\"username\"],\n",
    "                \"description\":follower[\"description\"],\n",
    "                # manca protected \n",
    "                \"public_metrics\": follower[\"public_metrics\"],\n",
    "                \"protected\" : follower[\"protected\"]\n",
    "            } \n",
    "            this_user_followers.append(found_follower)\n",
    "        all_followers[username] += this_user_followers\n",
    "        print(f\"Found {len(all_followers[username])} followers for {username}\")\n",
    "serialize_json(data_folder, \"followers_example.json\", all_followers)"
   ]
  }
 ],
 "metadata": {
  "interpreter": {
   "hash": "6a186480ead18c09b04efd3e4646b979735da0d88bac7d388316b7d3383adbe1"
  },
  "kernelspec": {
   "display_name": "Python 3.9.13 64-bit (windows store)",
   "language": "python",
   "name": "python3"
  },
  "language_info": {
   "codemirror_mode": {
    "name": "ipython",
    "version": 3
   },
   "file_extension": ".py",
   "mimetype": "text/x-python",
   "name": "python",
   "nbconvert_exporter": "python",
   "pygments_lexer": "ipython3",
   "version": "3.9.13"
  },
  "orig_nbformat": 4
 },
 "nbformat": 4,
 "nbformat_minor": 2
}
